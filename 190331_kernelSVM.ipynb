{
  "nbformat": 4,
  "nbformat_minor": 0,
  "metadata": {
    "colab": {
      "name": "190331_kernelSVM.ipynb",
      "version": "0.3.2",
      "provenance": [],
      "include_colab_link": true
    },
    "kernelspec": {
      "name": "python3",
      "display_name": "Python 3"
    }
  },
  "cells": [
    {
      "cell_type": "markdown",
      "metadata": {
        "id": "view-in-github",
        "colab_type": "text"
      },
      "source": [
        "<a href=\"https://colab.research.google.com/github/Daisuke0209/SVM/blob/master/190331_kernelSVM.ipynb\" target=\"_parent\"><img src=\"https://colab.research.google.com/assets/colab-badge.svg\" alt=\"Open In Colab\"/></a>"
      ]
    },
    {
      "metadata": {
        "id": "PXZrLBw0k3L2",
        "colab_type": "text"
      },
      "cell_type": "markdown",
      "source": [
        "#カーネルSVMを使った非線形問題の求解"
      ]
    },
    {
      "metadata": {
        "id": "YLxjtKY5waEx",
        "colab_type": "text"
      },
      "cell_type": "markdown",
      "source": [
        "## ライブラリのインポート"
      ]
    },
    {
      "metadata": {
        "id": "dz8Rx6Gck0J7",
        "colab_type": "code",
        "colab": {}
      },
      "cell_type": "code",
      "source": [
        "import numpy as np\n",
        "import matplotlib.pyplot as plt\n",
        "from sklearn.svm import SVC\n",
        "from matplotlib.colors import ListedColormap"
      ],
      "execution_count": 0,
      "outputs": []
    },
    {
      "metadata": {
        "id": "j79ztxsAwdvs",
        "colab_type": "text"
      },
      "cell_type": "markdown",
      "source": [
        "## データの生成"
      ]
    },
    {
      "metadata": {
        "id": "NNVf6t3UlK02",
        "colab_type": "code",
        "outputId": "74599fc6-5557-4576-ff64-57a0856bea5b",
        "colab": {
          "base_uri": "https://localhost:8080/",
          "height": 347
        }
      },
      "cell_type": "code",
      "source": [
        "np.random.seed(0)\n",
        "#標準正規分布に従う200×2の行列\n",
        "X_xor=np.random.randn(200,2)\n",
        "plt.hist(X_xor,bins=20,label=['1','2'])\n",
        "plt.legend()\n",
        "plt.show()"
      ],
      "execution_count": 0,
      "outputs": [
        {
          "output_type": "display_data",
          "data": {
            "image/png": "[encoded data removed]",
            "text/plain": [
              "<Figure size 576x396 with 1 Axes>"
            ]
          },
          "metadata": {
            "tags": []
          }
        }
      ]
    },
    {
      "metadata": {
        "id": "Nqu72QaRnbZx",
        "colab_type": "text"
      },
      "cell_type": "markdown",
      "source": [
        "X_xor(i,0)とX_xor(i,1)が二つとも0より大きい、もしくは二つとも0以下の場合にy_xor=True。それ以外はFalse"
      ]
    },
    {
      "metadata": {
        "id": "Nfz4vkWrm2Bq",
        "colab_type": "code",
        "colab": {}
      },
      "cell_type": "code",
      "source": [
        "#2つの引数に対して排他的論理和を実行\n",
        "y_xor=np.logical_xor(X_xor[:,0]>0, X_xor[:,1]>0)\n",
        "#排他的論理和の値が真なら1、偽なら-1を割り当て\n",
        "y_xor=np.where(y_xor, 1, -1)"
      ],
      "execution_count": 0,
      "outputs": []
    },
    {
      "metadata": {
        "id": "bowe2zsNmHNq",
        "colab_type": "text"
      },
      "cell_type": "markdown",
      "source": [
        "##プロット"
      ]
    },
    {
      "metadata": {
        "id": "KdbZyxaOlVLy",
        "colab_type": "code",
        "outputId": "cdd9497d-d86d-4427-82e4-bf37a415618a",
        "colab": {
          "base_uri": "https://localhost:8080/",
          "height": 351
        }
      },
      "cell_type": "code",
      "source": [
        "plt.scatter(X_xor[y_xor==1,0],X_xor[y_xor==1,1],c='b',marker='x',label='1')\n",
        "plt.scatter(X_xor[y_xor==-1,0],X_xor[y_xor==-1,1],c='r',marker='s',label='-1')\n",
        "plt.xlim([-3,3])\n",
        "plt.ylim([-3,3])\n",
        "plt.legend(loc='best')\n",
        "plt.show()"
      ],
      "execution_count": 0,
      "outputs": [
        {
          "output_type": "display_data",
          "data": {
            "image/png": "[encoded data removed]",
            "text/plain": [
              "<Figure size 576x396 with 1 Axes>"
            ]
          },
          "metadata": {
            "tags": []
          }
        }
      ]
    },
    {
      "metadata": {
        "id": "9KlBpJPbn9mT",
        "colab_type": "text"
      },
      "cell_type": "markdown",
      "source": [
        "明らかにこの問題は”線形分離”不可<br>\n",
        "→カーネルトリックにより特徴空間に射影。特徴空間上で線形SVMを実行"
      ]
    },
    {
      "metadata": {
        "id": "ZMMs8PdypulE",
        "colab_type": "code",
        "colab": {}
      },
      "cell_type": "code",
      "source": [
        "def plot_decision_regions(X, y, classifier, test_idx=None, resolution=0.02):\n",
        "  markers=('s','x','o','^','v')\n",
        "  colors=('red','blue','lightgreen','gray','cyan')\n",
        "  cmap=ListedColormap(colors[:len(np.unique(y))])\n",
        "  \n",
        "  x1_min, x1_max=X[:,0].min()-1,X[:,0].max()+1\n",
        "  x2_min, x2_max=X[:,1].min()-1,X[:,1].max()+1\n",
        "  \n",
        "  xx1,xx2=np.meshgrid(np.arange(x1_min, x1_max, resolution),\n",
        "                     np.arange(x2_min, x2_max, resolution))\n",
        "  \n",
        "  Z=classifier.predict(np.array([xx1.ravel(),xx2.ravel()]).T)\n",
        "  z=Z.reshape(xx1.shape)\n",
        "  \n",
        "  plt.contourf(xx1,xx2,z,alpha=0.4,cmap=cmap)\n",
        "  \n",
        "  plt.xlim(xx1.min(), xx1.max())\n",
        "  plt.ylim(xx2.min(), xx2.max())\n",
        "  \n",
        "  for idx, cl in enumerate(np.unique(y)):\n",
        "    plt.scatter(x=X[y==cl,0],y=X[y==cl, 1],\n",
        "               alpha=0.8, c=cmap(idx),\n",
        "               marker=markers[idx], label=cl)\n",
        "    \n",
        "  if test_idx:\n",
        "    X_test, y_test=X[test_idx,:],y[test_idx]\n",
        "    plt.scatter(X_test[:,0],X_test[:,1],c='gray',\n",
        "               alpha=1.0, linewidths=1, marker='v',\n",
        "               s=55, label='test set')"
      ],
      "execution_count": 0,
      "outputs": []
    },
    {
      "metadata": {
        "id": "murbLeBY2MnI",
        "colab_type": "text"
      },
      "cell_type": "markdown",
      "source": [
        "## 線形SVMによる分類"
      ]
    },
    {
      "metadata": {
        "id": "LB-mvRl82Ph6",
        "colab_type": "code",
        "colab": {}
      },
      "cell_type": "code",
      "source": [
        "svm=SVC(kernel='linear',C=1.0,random_state=0)\n",
        "svm.fit(X_xor,y_xor)\n",
        "plot_decision_regions(X_xor, y_xor, \n",
        "                      classifier=svm)\n",
        "plt.legend(loc='upper left')\n",
        "plt.show()"
      ],
      "execution_count": 0,
      "outputs": []
    },
    {
      "metadata": {
        "id": "5NwUzrPE2JvJ",
        "colab_type": "text"
      },
      "cell_type": "markdown",
      "source": [
        "## カーネルSVMによる分類"
      ]
    },
    {
      "metadata": {
        "id": "pMe37ZHtn8Bc",
        "colab_type": "code",
        "outputId": "46c33df7-5fff-4355-d60e-d105856b2622",
        "colab": {
          "base_uri": "https://localhost:8080/",
          "height": 401
        }
      },
      "cell_type": "code",
      "source": [
        "svm=SVC(kernel='rbf', random_state=0, gamma=0.10, C=10.0)\n",
        "svm.fit(X_xor, y_xor)\n",
        "plot_decision_regions(X_xor, y_xor, classifier=svm)\n",
        "plt.legend(loc='upper left')\n",
        "plt.show()"
      ],
      "execution_count": 0,
      "outputs": [
        {
          "output_type": "stream",
          "text": [
            "'c' argument looks like a single numeric RGB or RGBA sequence, which should be avoided as value-mapping will have precedence in case its length matches with 'x' & 'y'.  Please use a 2-D array with a single row if you really want to specify the same RGB or RGBA value for all points.\n",
            "'c' argument looks like a single numeric RGB or RGBA sequence, which should be avoided as value-mapping will have precedence in case its length matches with 'x' & 'y'.  Please use a 2-D array with a single row if you really want to specify the same RGB or RGBA value for all points.\n"
          ],
          "name": "stderr"
        },
        {
          "output_type": "display_data",
          "data": {
            "image/png": "[encoded data removed]",
            "text/plain": [
              "<Figure size 576x396 with 1 Axes>"
            ]
          },
          "metadata": {
            "tags": []
          }
        }
      ]
    },
    {
      "metadata": {
        "id": "yIaGqKVhrBrh",
        "colab_type": "text"
      },
      "cell_type": "markdown",
      "source": [
        "カーネルトリックを用いることで、非線形分類問題にも対応することができた"
      ]
    },
    {
      "metadata": {
        "id": "GQF9hEUAmVEK",
        "colab_type": "code",
        "colab": {}
      },
      "cell_type": "code",
      "source": [
        ""
      ],
      "execution_count": 0,
      "outputs": []
    }
  ]
}