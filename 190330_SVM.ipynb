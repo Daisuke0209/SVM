{
  "nbformat": 4,
  "nbformat_minor": 0,
  "metadata": {
    "colab": {
      "name": "190330_SVM.ipynb",
      "version": "0.3.2",
      "provenance": [],
      "include_colab_link": true
    },
    "kernelspec": {
      "name": "python3",
      "display_name": "Python 3"
    }
  },
  "cells": [
    {
      "cell_type": "markdown",
      "metadata": {
        "id": "view-in-github",
        "colab_type": "text"
      },
      "source": [
        "<a href=\"https://colab.research.google.com/github/Daisuke0209/SVM/blob/master/190330_SVM.ipynb\" target=\"_parent\"><img src=\"https://colab.research.google.com/assets/colab-badge.svg\" alt=\"Open In Colab\"/></a>"
      ]
    },
    {
      "metadata": {
        "id": "ZVuSc1QM7OJ9",
        "colab_type": "text"
      },
      "cell_type": "markdown",
      "source": [
        "# SVMによる最大マージン分類"
      ]
    },
    {
      "metadata": {
        "id": "8PNvJeh39urE",
        "colab_type": "text"
      },
      "cell_type": "markdown",
      "source": [
        "##ライブラリのインポート"
      ]
    },
    {
      "metadata": {
        "id": "4e5TuSaX6x__",
        "colab_type": "code",
        "colab": {}
      },
      "cell_type": "code",
      "source": [
        "from sklearn import datasets\n",
        "import numpy as np\n",
        "from sklearn.model_selection import train_test_split\n",
        "from sklearn.preprocessing import StandardScaler as SS\n",
        "from matplotlib.colors import ListedColormap\n",
        "import matplotlib.pyplot as plt\n",
        "from sklearn.svm import SVC"
      ],
      "execution_count": 0,
      "outputs": []
    },
    {
      "metadata": {
        "id": "lntVsc1V9xpy",
        "colab_type": "text"
      },
      "cell_type": "markdown",
      "source": [
        "## Irisデータの読み込み、学習・テストデータに分割"
      ]
    },
    {
      "metadata": {
        "id": "vUGAfjLL8Frj",
        "colab_type": "code",
        "colab": {}
      },
      "cell_type": "code",
      "source": [
        "iris=datasets.load_iris()\n",
        "X=iris.data[:,[2,3]]\n",
        "y=iris.target\n",
        "X_train,X_test,y_train,y_test=train_test_split(\n",
        "    X,y,test_size=0.3,random_state=0\n",
        ")"
      ],
      "execution_count": 0,
      "outputs": []
    },
    {
      "metadata": {
        "id": "SIXRCRZu9xRe",
        "colab_type": "text"
      },
      "cell_type": "markdown",
      "source": [
        "##データの標準化"
      ]
    },
    {
      "metadata": {
        "id": "TGG9dDy69rmX",
        "colab_type": "code",
        "colab": {}
      },
      "cell_type": "code",
      "source": [
        "sc=SS()\n",
        "sc.fit(X_train)\n",
        "X_train_std=sc.transform(X_train)\n",
        "X_test_std=sc.transform(X_test)"
      ],
      "execution_count": 0,
      "outputs": []
    },
    {
      "metadata": {
        "id": "zgx_nEa3ezN3",
        "colab_type": "text"
      },
      "cell_type": "markdown",
      "source": [
        "##描画関数の定義"
      ]
    },
    {
      "metadata": {
        "id": "7X9wX3xY_WCH",
        "colab_type": "code",
        "colab": {}
      },
      "cell_type": "code",
      "source": [
        "def plot_decision_regions(X, y, classifier, test_idx=None, resolution=0.02):\n",
        "  markers=('s','x','o','^','v')\n",
        "  colors=('red','blue','lightgreen','gray','cyan')\n",
        "  cmap=ListedColormap(colors[:len(np.unique(y))])\n",
        "  \n",
        "  x1_min, x1_max=X[:,0].min()-1,X[:,0].max()+1\n",
        "  x2_min, x2_max=X[:,1].min()-1,X[:,1].max()+1\n",
        "  \n",
        "  xx1,xx2=np.meshgrid(np.arange(x1_min, x1_max, resolution),\n",
        "                     np.arange(x2_min, x2_max, resolution))\n",
        "  \n",
        "  Z=classifier.predict(np.array([xx1.ravel(),xx2.ravel()]).T)\n",
        "  z=Z.reshape(xx1.shape)\n",
        "  \n",
        "  plt.contourf(xx1,xx2,z,alpha=0.4,cmap=cmap)\n",
        "  \n",
        "  plt.xlim(xx1.min(), xx1.max())\n",
        "  plt.ylim(xx2.min(), xx2.max())\n",
        "  \n",
        "  for idx, cl in enumerate(np.unique(y)):\n",
        "    plt.scatter(x=X[y==cl,0],y=X[y==cl, 1],\n",
        "               alpha=0.8, c=cmap(idx),\n",
        "               marker=markers[idx], label=cl)\n",
        "    \n",
        "  if test_idx:\n",
        "    X_test, y_test=X[test_idx,:],y[test_idx]\n",
        "    plt.scatter(X_test[:,0],X_test[:,1],c='gray',\n",
        "               alpha=1.0, linewidths=1, marker='v',\n",
        "               s=55, label='test set')"
      ],
      "execution_count": 0,
      "outputs": []
    },
    {
      "metadata": {
        "id": "KIi15QzYe7t6",
        "colab_type": "text"
      },
      "cell_type": "markdown",
      "source": [
        "## 学習・テストデータの合体"
      ]
    },
    {
      "metadata": {
        "id": "9MGulNLwCOi-",
        "colab_type": "code",
        "colab": {}
      },
      "cell_type": "code",
      "source": [
        "X_combined_std=np.vstack((X_train_std, X_test_std))\n",
        "y_combined=np.hstack((y_train, y_test))"
      ],
      "execution_count": 0,
      "outputs": []
    },
    {
      "metadata": {
        "id": "y7qjXHxafCzH",
        "colab_type": "text"
      },
      "cell_type": "markdown",
      "source": [
        "## SVMの定義・学習"
      ]
    },
    {
      "metadata": {
        "id": "oy9oG51f7mZY",
        "colab_type": "code",
        "colab": {
          "base_uri": "https://localhost:8080/",
          "height": 435
        },
        "outputId": "86339916-d0b5-4375-fc30-96caaba52236"
      },
      "cell_type": "code",
      "source": [
        "svm=SVC(kernel='linear',C=1.0,random_state=0)\n",
        "svm.fit(X_train_std,y_train)\n",
        "plot_decision_regions(X_combined_std, y_combined, \n",
        "                      classifier=svm,test_idx=range(105,150))\n",
        "plt.xlabel('petal length(standardized)')\n",
        "plt.ylabel('petal widht(standardized)')\n",
        "plt.legend(loc='upper left')\n",
        "plt.show()"
      ],
      "execution_count": 15,
      "outputs": [
        {
          "output_type": "stream",
          "text": [
            "'c' argument looks like a single numeric RGB or RGBA sequence, which should be avoided as value-mapping will have precedence in case its length matches with 'x' & 'y'.  Please use a 2-D array with a single row if you really want to specify the same RGB or RGBA value for all points.\n",
            "'c' argument looks like a single numeric RGB or RGBA sequence, which should be avoided as value-mapping will have precedence in case its length matches with 'x' & 'y'.  Please use a 2-D array with a single row if you really want to specify the same RGB or RGBA value for all points.\n",
            "'c' argument looks like a single numeric RGB or RGBA sequence, which should be avoided as value-mapping will have precedence in case its length matches with 'x' & 'y'.  Please use a 2-D array with a single row if you really want to specify the same RGB or RGBA value for all points.\n"
          ],
          "name": "stderr"
        },
        {
          "output_type": "display_data",
          "data": {
            "image/png": "[encoded data removed]",
            "text/plain": [
              "<Figure size 576x396 with 1 Axes>"
            ]
          },
          "metadata": {
            "tags": []
          }
        }
      ]
    },
    {
      "metadata": {
        "id": "a1dHdLPPvVBu",
        "colab_type": "code",
        "colab": {}
      },
      "cell_type": "code",
      "source": [
        ""
      ],
      "execution_count": 0,
      "outputs": []
    },
    {
      "metadata": {
        "id": "QV2u3phl-7YH",
        "colab_type": "code",
        "colab": {}
      },
      "cell_type": "code",
      "source": [
        "plt.scatter(X_test_std[:,0],X_test[:,1],c='',\n",
        "               alpha=1.0, linewidths=1, marker='v',\n",
        "               s=55, label='test set')\n",
        "plt.scatter(X_test_std[:,0],X_test[:,1],alpha=1.0)"
      ],
      "execution_count": 0,
      "outputs": []
    },
    {
      "metadata": {
        "id": "UUNGzXMHFbgm",
        "colab_type": "code",
        "colab": {}
      },
      "cell_type": "code",
      "source": [
        ""
      ],
      "execution_count": 0,
      "outputs": []
    }
  ]
}